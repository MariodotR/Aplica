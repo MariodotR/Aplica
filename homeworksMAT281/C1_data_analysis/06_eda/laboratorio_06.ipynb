{
 "cells": [
  {
   "cell_type": "markdown",
   "metadata": {},
   "source": [
    "<img src=\"images/usm.jpg\" width=\"480\" height=\"240\" align=\"left\"/>"
   ]
  },
  {
   "cell_type": "markdown",
   "metadata": {},
   "source": [
    "# MAT281 - Laboratorio N°06\n",
    "\n",
    "## Objetivos de la clase\n",
    "\n",
    "* Reforzar los conceptos básicos del E.D.A.."
   ]
  },
  {
   "cell_type": "markdown",
   "metadata": {},
   "source": [
    "## Contenidos\n",
    "\n",
    "* [Problema 01](#p1)\n"
   ]
  },
  {
   "cell_type": "markdown",
   "metadata": {},
   "source": [
    "## Problema 01\n",
    "<img src=\"./images/logo_iris.jpg\" width=\"360\" height=\"360\" align=\"center\"/>"
   ]
  },
  {
   "cell_type": "markdown",
   "metadata": {},
   "source": [
    "El **Iris dataset** es un conjunto de datos que contine una  muestras de tres especies de Iris (Iris setosa, Iris virginica e Iris versicolor). Se midió cuatro rasgos de cada muestra: el largo y ancho del sépalo y pétalo, en centímetros.\n",
    "\n",
    "Lo primero es cargar el conjunto de datos y ver las primeras filas que lo componen:"
   ]
  },
  {
   "cell_type": "code",
   "execution_count": 1,
   "metadata": {},
   "outputs": [],
   "source": [
    "# librerias\n",
    " \n",
    "import os\n",
    "import numpy as np\n",
    "import pandas as pd\n",
    "\n",
    "import matplotlib.pyplot as plt\n",
    "import seaborn as sns \n",
    "pd.set_option('display.max_columns', 500)  # Ver más columnas de los dataframes\n",
    "\n",
    "\n",
    "# Ver gráficos de matplotlib en jupyter notebook/lab\n",
    "%matplotlib inline"
   ]
  },
  {
   "cell_type": "code",
   "execution_count": 35,
   "metadata": {},
   "outputs": [
    {
     "data": {
      "text/html": [
       "<div>\n",
       "<style scoped>\n",
       "    .dataframe tbody tr th:only-of-type {\n",
       "        vertical-align: middle;\n",
       "    }\n",
       "\n",
       "    .dataframe tbody tr th {\n",
       "        vertical-align: top;\n",
       "    }\n",
       "\n",
       "    .dataframe thead th {\n",
       "        text-align: right;\n",
       "    }\n",
       "</style>\n",
       "<table border=\"1\" class=\"dataframe\">\n",
       "  <thead>\n",
       "    <tr style=\"text-align: right;\">\n",
       "      <th></th>\n",
       "      <th>sepalLength</th>\n",
       "      <th>sepalWidth</th>\n",
       "      <th>petalLength</th>\n",
       "      <th>petalWidth</th>\n",
       "      <th>species</th>\n",
       "    </tr>\n",
       "  </thead>\n",
       "  <tbody>\n",
       "    <tr>\n",
       "      <th>0</th>\n",
       "      <td>4.4</td>\n",
       "      <td>3.2</td>\n",
       "      <td>1.3</td>\n",
       "      <td>3.0</td>\n",
       "      <td>setosa</td>\n",
       "    </tr>\n",
       "    <tr>\n",
       "      <th>1</th>\n",
       "      <td>7.2</td>\n",
       "      <td>3.6</td>\n",
       "      <td>6.1</td>\n",
       "      <td>2.5</td>\n",
       "      <td>virginica</td>\n",
       "    </tr>\n",
       "    <tr>\n",
       "      <th>2</th>\n",
       "      <td>6.3</td>\n",
       "      <td>3.3</td>\n",
       "      <td>6.0</td>\n",
       "      <td>2.5</td>\n",
       "      <td>VIRGINICA</td>\n",
       "    </tr>\n",
       "    <tr>\n",
       "      <th>3</th>\n",
       "      <td>6.7</td>\n",
       "      <td>3.3</td>\n",
       "      <td>5.7</td>\n",
       "      <td>2.5</td>\n",
       "      <td>virginica</td>\n",
       "    </tr>\n",
       "    <tr>\n",
       "      <th>4</th>\n",
       "      <td>6.3</td>\n",
       "      <td>3.4</td>\n",
       "      <td>5.6</td>\n",
       "      <td>2.4</td>\n",
       "      <td>virginica</td>\n",
       "    </tr>\n",
       "  </tbody>\n",
       "</table>\n",
       "</div>"
      ],
      "text/plain": [
       "   sepalLength  sepalWidth  petalLength  petalWidth     species\n",
       "0          4.4         3.2          1.3         3.0      setosa\n",
       "1          7.2         3.6          6.1         2.5   virginica\n",
       "2          6.3         3.3          6.0         2.5   VIRGINICA\n",
       "3          6.7         3.3          5.7         2.5   virginica\n",
       "4          6.3         3.4          5.6         2.4   virginica"
      ]
     },
     "execution_count": 35,
     "metadata": {},
     "output_type": "execute_result"
    }
   ],
   "source": [
    "# cargar datos\n",
    "df = pd.read_csv(os.path.join(\"data\",\"iris_contaminados.csv\"))\n",
    "df.columns = ['sepalLength',\n",
    "                  'sepalWidth',\n",
    "                  'petalLength',\n",
    "                  'petalWidth',\n",
    "                  'species']\n",
    "\n",
    "df.head() "
   ]
  },
  {
   "cell_type": "markdown",
   "metadata": {},
   "source": [
    "### Bases del experimento\n",
    "\n",
    "Lo primero es identificar las variables que influyen en el estudio y la naturaleza de esta.\n",
    "\n",
    "* **species**: \n",
    "    * Descripción: Nombre de la especie de Iris. \n",
    "    * Tipo de dato: *string*\n",
    "    * Limitantes: solo existen tres tipos (setosa, virginia y versicolor).\n",
    "* **sepalLength**: \n",
    "    * Descripción: largo del sépalo. \n",
    "    * Tipo de dato: *integer*. \n",
    "    * Limitantes: los valores se encuentran entre 4.0 y 7.0 cm.\n",
    "* **sepalWidth**: \n",
    "    * Descripción: ancho del sépalo. \n",
    "    * Tipo de dato: *integer*. \n",
    "    * Limitantes: los valores se encuentran entre 2.0 y 4.5 cm.\n",
    "* **petalLength**: \n",
    "    * Descripción: largo del pétalo. \n",
    "    * Tipo de dato: *integer*. \n",
    "    * Limitantes: los valores se encuentran entre 1.0 y 7.0 cm.\n",
    "* **petalWidth**: \n",
    "    * Descripción: ancho del pépalo. \n",
    "    * Tipo de dato: *integer*. \n",
    "    * Limitantes: los valores se encuentran entre 0.1 y 2.5 cm."
   ]
  },
  {
   "cell_type": "markdown",
   "metadata": {},
   "source": [
    "Su objetivo es realizar un correcto **E.D.A.**, para esto debe seguir las siguientes intrucciones:"
   ]
  },
  {
   "cell_type": "markdown",
   "metadata": {},
   "source": [
    "1. Realizar un conteo de elementos de la columna **species** y corregir según su criterio. Reemplace por \"default\" los valores nan.."
   ]
  },
  {
   "cell_type": "code",
   "execution_count": 36,
   "metadata": {},
   "outputs": [],
   "source": [
    "df['species'] = df['species'].str.lower().str.strip() ## se transforma las especies a minusculas y sin espacios\n",
    "df.loc[df['species'].isnull(),'species'] = \"sin especie\" ## se marcan las especies faltantes"
   ]
  },
  {
   "cell_type": "code",
   "execution_count": 37,
   "metadata": {},
   "outputs": [],
   "source": [
    "f=df[\"species\"].value_counts() ## cuenta los valores"
   ]
  },
  {
   "cell_type": "code",
   "execution_count": 38,
   "metadata": {},
   "outputs": [
    {
     "data": {
      "text/html": [
       "<div>\n",
       "<style scoped>\n",
       "    .dataframe tbody tr th:only-of-type {\n",
       "        vertical-align: middle;\n",
       "    }\n",
       "\n",
       "    .dataframe tbody tr th {\n",
       "        vertical-align: top;\n",
       "    }\n",
       "\n",
       "    .dataframe thead th {\n",
       "        text-align: right;\n",
       "    }\n",
       "</style>\n",
       "<table border=\"1\" class=\"dataframe\">\n",
       "  <thead>\n",
       "    <tr style=\"text-align: right;\">\n",
       "      <th></th>\n",
       "      <th>species</th>\n",
       "    </tr>\n",
       "  </thead>\n",
       "  <tbody>\n",
       "    <tr>\n",
       "      <th>setosa</th>\n",
       "      <td>50</td>\n",
       "    </tr>\n",
       "    <tr>\n",
       "      <th>virginica</th>\n",
       "      <td>50</td>\n",
       "    </tr>\n",
       "    <tr>\n",
       "      <th>versicolor</th>\n",
       "      <td>49</td>\n",
       "    </tr>\n",
       "    <tr>\n",
       "      <th>sin especie</th>\n",
       "      <td>1</td>\n",
       "    </tr>\n",
       "  </tbody>\n",
       "</table>\n",
       "</div>"
      ],
      "text/plain": [
       "             species\n",
       "setosa            50\n",
       "virginica         50\n",
       "versicolor        49\n",
       "sin especie        1"
      ]
     },
     "execution_count": 38,
     "metadata": {},
     "output_type": "execute_result"
    }
   ],
   "source": [
    "pd.DataFrame(f)"
   ]
  },
  {
   "cell_type": "markdown",
   "metadata": {},
   "source": [
    "2. Realizar un gráfico de box-plot sobre el largo y ancho de los petalos y sépalos. Reemplace por **0** los valores nan."
   ]
  },
  {
   "cell_type": "code",
   "execution_count": 42,
   "metadata": {},
   "outputs": [],
   "source": [
    "for colum in df.columns[:-1]: ##recorremos las columnas\n",
    "    df.loc[df[colum].isnull(),colum] = 0 ## las replazamos por cero los valores perdidos"
   ]
  },
  {
   "cell_type": "code",
   "execution_count": 48,
   "metadata": {},
   "outputs": [
    {
     "data": {
      "image/png": "[encoded data removed]",
      "text/plain": [
       "<Figure size 432x288 with 1 Axes>"
      ]
     },
     "metadata": {
      "needs_background": "light"
     },
     "output_type": "display_data"
    }
   ],
   "source": [
    "ax = sns.boxplot(data=df, orient=\"h\") "
   ]
  },
  {
   "cell_type": "markdown",
   "metadata": {},
   "source": [
    "3. Anteriormente se define un rango de valores válidos para los valores del largo y ancho de los petalos y sépalos. Agregue una columna denominada **label**  que identifique cuál de estos valores esta fuera del rango de valores válidos."
   ]
  },
  {
   "cell_type": "code",
   "execution_count": 68,
   "metadata": {},
   "outputs": [],
   "source": [
    "label_values=np.zeros(df.shape[0]) ## creamos el vector columna cero== fuera de rango"
   ]
  },
  {
   "cell_type": "code",
   "execution_count": 71,
   "metadata": {},
   "outputs": [],
   "source": [
    "for i in range(df.shape[0]):\n",
    "        if 7.0 >=df.iloc[i]['sepalLength']>= 4.0 and 4.5 >=df.iloc[i]['sepalWidth']>= 2.0 and 7.0 >=df.iloc[i]['petalLength']>= 1.0 and 2.5 >=df.iloc[i]['petalWidth']>= 0.1:\n",
    "            label_values[i]=1 ## marcamos con 1 si esta dentro del rango\n"
   ]
  },
  {
   "cell_type": "code",
   "execution_count": 93,
   "metadata": {},
   "outputs": [],
   "source": [
    "df=df.assign(label=label_values) ## añadimos la columna label"
   ]
  },
  {
   "cell_type": "markdown",
   "metadata": {},
   "source": [
    "4. Realice un gráfico de *sepalLength* vs *petalLength* y otro de *sepalWidth* vs *petalWidth* categorizados por la etiqueta **label**. Concluya sus resultados."
   ]
  },
  {
   "cell_type": "code",
   "execution_count": 105,
   "metadata": {
    "scrolled": true
   },
   "outputs": [
    {
     "data": {
      "image/png": "[encoded data removed]",
      "text/plain": [
       "<Figure size 432x288 with 1 Axes>"
      ]
     },
     "metadata": {
      "needs_background": "light"
     },
     "output_type": "display_data"
    }
   ],
   "source": [
    "fig, ax = plt.subplots()\n",
    "for color in [0,1]: ##para cada label\n",
    "    x=df.loc[df[\"label\"]==color][\"sepalLength\"] ## extrae el data frame con ese label y luego la columna deseada\n",
    "    y=df.loc[df[\"label\"]==color][\"petalLength\"]\n",
    "    ax.scatter(x, y, label=color)\n",
    "\n",
    "ax.legend()\n",
    "ax.grid(True)\n",
    "\n",
    "plt.show()"
   ]
  },
  {
   "cell_type": "markdown",
   "metadata": {},
   "source": [
    "Conclusión: hay más datos válidos en el rango que fuera de este, parece haber dos cluster, uno lineal."
   ]
  },
  {
   "cell_type": "code",
   "execution_count": 102,
   "metadata": {
    "scrolled": true
   },
   "outputs": [
    {
     "data": {
      "image/png": "[encoded data removed]",
      "text/plain": [
       "<Figure size 432x288 with 1 Axes>"
      ]
     },
     "metadata": {
      "needs_background": "light"
     },
     "output_type": "display_data"
    }
   ],
   "source": [
    "fig, ax = plt.subplots()\n",
    "for color in [0,1]:\n",
    "    x=df.loc[df[\"label\"]==color][\"sepalWidth\"]\n",
    "    y=df.loc[df[\"label\"]==color][\"petalWidth\"]\n",
    "    ax.scatter(x, y, label=color)\n",
    "\n",
    "ax.legend()\n",
    "ax.grid(True)\n",
    "\n",
    "plt.show()"
   ]
  },
  {
   "cell_type": "markdown",
   "metadata": {},
   "source": [
    "Conslusión: hay más datos válidos en el rango que fuera de este, se observan dos cluster"
   ]
  },
  {
   "cell_type": "markdown",
   "metadata": {},
   "source": [
    "5. Filtre los datos válidos y realice un gráfico de *sepalLength* vs *petalLength* categorizados por la etiqueta **species**."
   ]
  },
  {
   "cell_type": "code",
   "execution_count": 111,
   "metadata": {},
   "outputs": [
    {
     "data": {
      "image/png": "[encoded data removed]",
      "text/plain": [
       "<Figure size 432x288 with 1 Axes>"
      ]
     },
     "metadata": {
      "needs_background": "light"
     },
     "output_type": "display_data"
    }
   ],
   "source": [
    "df_valido= df.loc[df[\"label\"]==1] ## restringimos el data frame a los validos\n",
    "fig, ax = plt.subplots()\n",
    "for color in df[\"species\"].unique():\n",
    "    x=df_valido.loc[df[\"species\"]==color][\"sepalLength\"] ## extrae el data frame con ese label y luego la columna deseada\n",
    "    y=df_valido.loc[df[\"species\"]==color][\"petalLength\"]\n",
    "    ax.scatter(x, y, label=color)\n",
    "\n",
    "ax.legend()\n",
    "ax.grid(True)\n",
    "\n",
    "plt.show()"
   ]
  }
 ],
 "metadata": {
  "kernelspec": {
   "display_name": "Python 3",
   "language": "python",
   "name": "python3"
  },
  "language_info": {
   "codemirror_mode": {
    "name": "ipython",
    "version": 3
   },
   "file_extension": ".py",
   "mimetype": "text/x-python",
   "name": "python",
   "nbconvert_exporter": "python",
   "pygments_lexer": "ipython3",
   "version": "3.7.8"
  }
 },
 "nbformat": 4,
 "nbformat_minor": 4
}
